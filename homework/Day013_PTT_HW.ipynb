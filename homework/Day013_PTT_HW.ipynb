{
 "cells": [
  {
   "cell_type": "markdown",
   "metadata": {},
   "source": [
    "# PTT 網路爬蟲實作練習\n",
    "\n",
    "\n",
    "* 能夠利用 Request + BeatifulSour 撰寫爬蟲，並存放到合適的資料結構\n"
   ]
  },
  {
   "cell_type": "markdown",
   "metadata": {},
   "source": [
    "## 作業目標\n",
    "\n",
    "根據範例 ，完成以下問題：\n",
    "\n",
    "* ① 印出最新文章的「作者」「標題」「時間」\n",
    "* ② 印出第一頁所有文章的「作者」「標題」「時間」\n"
   ]
  },
  {
   "cell_type": "code",
   "execution_count": 29,
   "metadata": {},
   "outputs": [],
   "source": [
    "import requests\n",
    "from bs4 import BeautifulSoup\n",
    "import pandas as pd\n",
    "\n",
    "url = 'https://www.ptt.cc/bbs/NBA/index.html'\n",
    "r = requests.get(url)\n",
    "\n",
    "soup = BeautifulSoup(r.text, \"html5lib\")\n",
    "\n",
    "columns = ['作者', '看板', '標題', '時間']"
   ]
  },
  {
   "cell_type": "code",
   "execution_count": 38,
   "metadata": {},
   "outputs": [],
   "source": [
    "def first_page(url):\n",
    "    r = requests.get(url)\n",
    "\n",
    "    soup = BeautifulSoup(r.text, \"html5lib\")\n",
    "\n",
    "    global df\n",
    "    page_content = []\n",
    "    for d in soup.find_all(class_=\"title\"):\n",
    "        try:\n",
    "            r = BeautifulSoup(requests.get('https://www.ptt.cc'+d.find('a')['href']).text, \"html5lib\")\n",
    "            content = []\n",
    "            for result in r.find_all(class_='article-meta-value'):\n",
    "                content.append(result.text)\n",
    "            page_content.append(content)\n",
    "        except:\n",
    "            continue\n",
    "    df = pd.DataFrame(page_content, columns=columns)\n",
    "    return df"
   ]
  },
  {
   "cell_type": "markdown",
   "metadata": {},
   "source": [
    "### ① 印出最新文章的「作者」「標題」「時間」"
   ]
  },
  {
   "cell_type": "code",
   "execution_count": 39,
   "metadata": {},
   "outputs": [
    {
     "data": {
      "text/html": [
       "<div>\n",
       "<style scoped>\n",
       "    .dataframe tbody tr th:only-of-type {\n",
       "        vertical-align: middle;\n",
       "    }\n",
       "\n",
       "    .dataframe tbody tr th {\n",
       "        vertical-align: top;\n",
       "    }\n",
       "\n",
       "    .dataframe thead th {\n",
       "        text-align: right;\n",
       "    }\n",
       "</style>\n",
       "<table border=\"1\" class=\"dataframe\">\n",
       "  <thead>\n",
       "    <tr style=\"text-align: right;\">\n",
       "      <th></th>\n",
       "      <th>作者</th>\n",
       "      <th>看板</th>\n",
       "      <th>標題</th>\n",
       "      <th>時間</th>\n",
       "    </tr>\n",
       "  </thead>\n",
       "  <tbody>\n",
       "    <tr>\n",
       "      <td>0</td>\n",
       "      <td>Rambo (香帥)</td>\n",
       "      <td>NBA</td>\n",
       "      <td>[Live] 湖人 @ 籃網</td>\n",
       "      <td>Fri Jan 24 08:30:01 2020</td>\n",
       "    </tr>\n",
       "    <tr>\n",
       "      <td>1</td>\n",
       "      <td>dragon803 (好想去露營啊~)</td>\n",
       "      <td>NBA</td>\n",
       "      <td>[情報] 東西區投票結果分佈</td>\n",
       "      <td>Fri Jan 24 08:31:55 2020</td>\n",
       "    </tr>\n",
       "    <tr>\n",
       "      <td>2</td>\n",
       "      <td>ghost069 (阿鬼)</td>\n",
       "      <td>NBA</td>\n",
       "      <td>[情報] Lebron連續4年成為全明星賽人氣王</td>\n",
       "      <td>Fri Jan 24 08:43:33 2020</td>\n",
       "    </tr>\n",
       "    <tr>\n",
       "      <td>3</td>\n",
       "      <td>kuiyy (kuiyy)</td>\n",
       "      <td>NBA</td>\n",
       "      <td>[討論] 歷屆全明星賽人氣王整理</td>\n",
       "      <td>Fri Jan 24 09:15:04 2020</td>\n",
       "    </tr>\n",
       "    <tr>\n",
       "      <td>4</td>\n",
       "      <td>Aotearoa (長白雲之鄉)</td>\n",
       "      <td>NBA</td>\n",
       "      <td>[情報] Luka Doncic 小牛隊史第三位在明星賽先發</td>\n",
       "      <td>Fri Jan 24 09:18:51 2020</td>\n",
       "    </tr>\n",
       "    <tr>\n",
       "      <td>5</td>\n",
       "      <td>None</td>\n",
       "      <td>None</td>\n",
       "      <td>None</td>\n",
       "      <td>None</td>\n",
       "    </tr>\n",
       "    <tr>\n",
       "      <td>6</td>\n",
       "      <td>Vedan (味丹)</td>\n",
       "      <td>NBA</td>\n",
       "      <td>[公告] 樂透取消及未來不再開啟樂透</td>\n",
       "      <td>Mon Jun 24 15:08:02 2019</td>\n",
       "    </tr>\n",
       "    <tr>\n",
       "      <td>7</td>\n",
       "      <td>qazwsx879345 (Rajon Rondo)</td>\n",
       "      <td>NBA</td>\n",
       "      <td>[公告] 版主上任相關事項</td>\n",
       "      <td>Fri Oct 25 10:44:03 2019</td>\n",
       "    </tr>\n",
       "    <tr>\n",
       "      <td>8</td>\n",
       "      <td>Acetoxy (阿斯)</td>\n",
       "      <td>NBA</td>\n",
       "      <td>[情報] SEASON Schedule 賽程 January 19–20</td>\n",
       "      <td>Fri Jan  3 01:37:35 2020</td>\n",
       "    </tr>\n",
       "  </tbody>\n",
       "</table>\n",
       "</div>"
      ],
      "text/plain": [
       "                           作者    看板                                     標題  \\\n",
       "0                  Rambo (香帥)   NBA                         [Live] 湖人 @ 籃網   \n",
       "1         dragon803 (好想去露營啊~)   NBA                         [情報] 東西區投票結果分佈   \n",
       "2               ghost069 (阿鬼)   NBA               [情報] Lebron連續4年成為全明星賽人氣王   \n",
       "3               kuiyy (kuiyy)   NBA                       [討論] 歷屆全明星賽人氣王整理   \n",
       "4            Aotearoa (長白雲之鄉)   NBA         [情報] Luka Doncic 小牛隊史第三位在明星賽先發   \n",
       "5                        None  None                                   None   \n",
       "6                  Vedan (味丹)   NBA                     [公告] 樂透取消及未來不再開啟樂透   \n",
       "7  qazwsx879345 (Rajon Rondo)   NBA                          [公告] 版主上任相關事項   \n",
       "8                Acetoxy (阿斯)   NBA  [情報] SEASON Schedule 賽程 January 19–20   \n",
       "\n",
       "                         時間  \n",
       "0  Fri Jan 24 08:30:01 2020  \n",
       "1  Fri Jan 24 08:31:55 2020  \n",
       "2  Fri Jan 24 08:43:33 2020  \n",
       "3  Fri Jan 24 09:15:04 2020  \n",
       "4  Fri Jan 24 09:18:51 2020  \n",
       "5                      None  \n",
       "6  Mon Jun 24 15:08:02 2019  \n",
       "7  Fri Oct 25 10:44:03 2019  \n",
       "8  Fri Jan  3 01:37:35 2020  "
      ]
     },
     "execution_count": 39,
     "metadata": {},
     "output_type": "execute_result"
    }
   ],
   "source": [
    "first_page('https://www.ptt.cc/bbs/NBA/index.html')"
   ]
  },
  {
   "cell_type": "code",
   "execution_count": 42,
   "metadata": {},
   "outputs": [
    {
     "data": {
      "text/plain": [
       "作者                  Rambo (香帥)\n",
       "看板                         NBA\n",
       "標題              [Live] 湖人 @ 籃網\n",
       "時間    Fri Jan 24 08:30:01 2020\n",
       "Name: 0, dtype: object"
      ]
     },
     "execution_count": 42,
     "metadata": {},
     "output_type": "execute_result"
    }
   ],
   "source": [
    "df.iloc[0, :]"
   ]
  },
  {
   "cell_type": "markdown",
   "metadata": {},
   "source": [
    "### ② 印出第一頁所有文章的「作者」「標題」「時間」"
   ]
  },
  {
   "cell_type": "code",
   "execution_count": 43,
   "metadata": {},
   "outputs": [
    {
     "name": "stdout",
     "output_type": "stream",
     "text": [
      "作者: Rambo (香帥)\n",
      "標題: [Live] 湖人 @ 籃網\n",
      "時間: Fri Jan 24 08:30:01 2020\n",
      "作者: dragon803 (好想去露營啊~)\n",
      "標題: [情報] 東西區投票結果分佈\n",
      "時間: Fri Jan 24 08:31:55 2020\n",
      "作者: ghost069 (阿鬼)\n",
      "標題: [情報] Lebron連續4年成為全明星賽人氣王\n",
      "時間: Fri Jan 24 08:43:33 2020\n",
      "作者: kuiyy (kuiyy)\n",
      "標題: [討論] 歷屆全明星賽人氣王整理\n",
      "時間: Fri Jan 24 09:15:04 2020\n",
      "作者: Aotearoa (長白雲之鄉)\n",
      "標題: [情報] Luka Doncic 小牛隊史第三位在明星賽先發\n",
      "時間: Fri Jan 24 09:18:51 2020\n",
      "作者: Vedan (味丹)\n",
      "標題: [公告] 樂透取消及未來不再開啟樂透\n",
      "時間: Mon Jun 24 15:08:02 2019\n",
      "作者: qazwsx879345 (Rajon Rondo)\n",
      "標題: [公告] 版主上任相關事項\n",
      "時間: Fri Oct 25 10:44:03 2019\n",
      "作者: Acetoxy (阿斯)\n",
      "標題: [情報] SEASON Schedule 賽程 January 19–20\n",
      "時間: Fri Jan  3 01:37:35 2020\n"
     ]
    }
   ],
   "source": [
    "for d in soup.find_all(class_=\"title\"):\n",
    "    try:\n",
    "        r = BeautifulSoup(requests.get('https://www.ptt.cc'+d.find('a')['href']).text, \"html5lib\")\n",
    "        print('作者: ' + r.find(class_='article-meta-value').text)\n",
    "        print('標題: ' + r.find_all(class_=\"article-meta-value\")[2].text)\n",
    "        print('時間: ' + r.find_all(class_=\"article-meta-value\")[3].text)\n",
    "    except:\n",
    "        continue"
   ]
  },
  {
   "cell_type": "markdown",
   "metadata": {},
   "source": [
    "### ③ 試著爬爬看其他版的文章"
   ]
  },
  {
   "cell_type": "code",
   "execution_count": 44,
   "metadata": {},
   "outputs": [
    {
     "data": {
      "text/html": [
       "<div>\n",
       "<style scoped>\n",
       "    .dataframe tbody tr th:only-of-type {\n",
       "        vertical-align: middle;\n",
       "    }\n",
       "\n",
       "    .dataframe tbody tr th {\n",
       "        vertical-align: top;\n",
       "    }\n",
       "\n",
       "    .dataframe thead th {\n",
       "        text-align: right;\n",
       "    }\n",
       "</style>\n",
       "<table border=\"1\" class=\"dataframe\">\n",
       "  <thead>\n",
       "    <tr style=\"text-align: right;\">\n",
       "      <th></th>\n",
       "      <th>作者</th>\n",
       "      <th>看板</th>\n",
       "      <th>標題</th>\n",
       "      <th>時間</th>\n",
       "    </tr>\n",
       "  </thead>\n",
       "  <tbody>\n",
       "    <tr>\n",
       "      <td>0</td>\n",
       "      <td>currykukuo (陳菊濕汗)</td>\n",
       "      <td>RealmOfValor</td>\n",
       "      <td>新年2020大紅包</td>\n",
       "      <td>Fri Jan 24 09:02:58 2020</td>\n",
       "    </tr>\n",
       "    <tr>\n",
       "      <td>1</td>\n",
       "      <td>aruon (阿嚕用)</td>\n",
       "      <td>RealmOfValor</td>\n",
       "      <td>[問題] 日本玩台服</td>\n",
       "      <td>Fri Jan 24 09:06:07 2020</td>\n",
       "    </tr>\n",
       "    <tr>\n",
       "      <td>2</td>\n",
       "      <td>RODRIQUEZ (母之)</td>\n",
       "      <td>RealmOfValor</td>\n",
       "      <td>Re: [公告] 紅包互助活動集中文</td>\n",
       "      <td>Fri Jan 24 09:33:50 2020</td>\n",
       "    </tr>\n",
       "    <tr>\n",
       "      <td>3</td>\n",
       "      <td>ceaserman (神采飛揚)</td>\n",
       "      <td>RealmOfValor</td>\n",
       "      <td>[公告] RealmOfValor 傳說對決板規 V1.2 版</td>\n",
       "      <td>Tue Aug  7 16:16:00 2018</td>\n",
       "    </tr>\n",
       "    <tr>\n",
       "      <td>4</td>\n",
       "      <td>ceaserman (神采飛揚)</td>\n",
       "      <td>RealmOfValor</td>\n",
       "      <td>[公告] 2018 置底怒灌/聊天/回報/多功能區</td>\n",
       "      <td>Tue Jan  2 13:49:37 2018</td>\n",
       "    </tr>\n",
       "    <tr>\n",
       "      <td>5</td>\n",
       "      <td>ceaserman (神采飛揚)</td>\n",
       "      <td>RealmOfValor</td>\n",
       "      <td>[公告] 2018 遊戲虛擬物品交換區</td>\n",
       "      <td>Tue Jan  2 13:53:37 2018</td>\n",
       "    </tr>\n",
       "    <tr>\n",
       "      <td>6</td>\n",
       "      <td>ceaserman (神采飛揚)</td>\n",
       "      <td>RealmOfValor</td>\n",
       "      <td>[公告] 引戰、挑釁、謾罵與鬧板之判定標準</td>\n",
       "      <td>Fri Mar 15 00:29:55 2019</td>\n",
       "    </tr>\n",
       "    <tr>\n",
       "      <td>7</td>\n",
       "      <td>ceaserman (神采飛揚)</td>\n",
       "      <td>RealmOfValor</td>\n",
       "      <td>[公告] 紅包互助活動集中文</td>\n",
       "      <td>Sat Jan 18 20:34:06 2020</td>\n",
       "    </tr>\n",
       "  </tbody>\n",
       "</table>\n",
       "</div>"
      ],
      "text/plain": [
       "                  作者            看板                               標題  \\\n",
       "0  currykukuo (陳菊濕汗)  RealmOfValor                        新年2020大紅包   \n",
       "1        aruon (阿嚕用)  RealmOfValor                       [問題] 日本玩台服   \n",
       "2     RODRIQUEZ (母之)  RealmOfValor               Re: [公告] 紅包互助活動集中文   \n",
       "3   ceaserman (神采飛揚)  RealmOfValor  [公告] RealmOfValor 傳說對決板規 V1.2 版   \n",
       "4   ceaserman (神采飛揚)  RealmOfValor        [公告] 2018 置底怒灌/聊天/回報/多功能區   \n",
       "5   ceaserman (神采飛揚)  RealmOfValor              [公告] 2018 遊戲虛擬物品交換區   \n",
       "6   ceaserman (神采飛揚)  RealmOfValor            [公告] 引戰、挑釁、謾罵與鬧板之判定標準   \n",
       "7   ceaserman (神采飛揚)  RealmOfValor                   [公告] 紅包互助活動集中文   \n",
       "\n",
       "                         時間  \n",
       "0  Fri Jan 24 09:02:58 2020  \n",
       "1  Fri Jan 24 09:06:07 2020  \n",
       "2  Fri Jan 24 09:33:50 2020  \n",
       "3  Tue Aug  7 16:16:00 2018  \n",
       "4  Tue Jan  2 13:49:37 2018  \n",
       "5  Tue Jan  2 13:53:37 2018  \n",
       "6  Fri Mar 15 00:29:55 2019  \n",
       "7  Sat Jan 18 20:34:06 2020  "
      ]
     },
     "execution_count": 44,
     "metadata": {},
     "output_type": "execute_result"
    }
   ],
   "source": [
    "#手遊板\n",
    "first_page('https://www.ptt.cc/bbs/RealmOfValor/index.html')"
   ]
  },
  {
   "cell_type": "code",
   "execution_count": null,
   "metadata": {},
   "outputs": [],
   "source": []
  }
 ],
 "metadata": {
  "kernelspec": {
   "display_name": "Python 3",
   "language": "python",
   "name": "python3"
  },
  "language_info": {
   "codemirror_mode": {
    "name": "ipython",
    "version": 3
   },
   "file_extension": ".py",
   "mimetype": "text/x-python",
   "name": "python",
   "nbconvert_exporter": "python",
   "pygments_lexer": "ipython3",
   "version": "3.7.0"
  }
 },
 "nbformat": 4,
 "nbformat_minor": 2
}
