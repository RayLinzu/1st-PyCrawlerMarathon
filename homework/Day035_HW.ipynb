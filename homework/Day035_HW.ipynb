{
 "cells": [
  {
   "cell_type": "markdown",
   "metadata": {},
   "source": [
    "# 加速：多線程爬蟲\n",
    "\n",
    "\n",
    "\n",
    "* 了解知乎 API 使用方式與回傳內容\n",
    "* 撰寫程式存取 API 且添加標頭"
   ]
  },
  {
   "cell_type": "markdown",
   "metadata": {},
   "source": [
    "## 作業目標\n",
    "\n",
    "* 找一個之前實作過的爬蟲改用多線程改寫，比較前後時間的差異。\n",
    "\n",
    "\n",
    "\n"
   ]
  },
  {
   "cell_type": "code",
   "execution_count": 2,
   "metadata": {},
   "outputs": [],
   "source": [
    "import requests\n",
    "import time\n",
    "from bs4 import BeautifulSoup\n",
    "from selenium import webdriver\n",
    "from selenium.webdriver.common.keys import Keys\n",
    "import _thread\n",
    "import time"
   ]
  },
  {
   "cell_type": "code",
   "execution_count": 3,
   "metadata": {},
   "outputs": [],
   "source": [
    "ETtoday_url = \"https://www.ettoday.net/news/focus/%E8%B2%A1%E7%B6%93/\"  #財經新聞"
   ]
  },
  {
   "cell_type": "code",
   "execution_count": 4,
   "metadata": {},
   "outputs": [
    {
     "name": "stdout",
     "output_type": "stream",
     "text": [
      "網頁更新中...\n",
      "網頁更新中...\n",
      "網頁更新中...\n",
      "網頁更新中...\n",
      "網頁更新中...\n",
      "網頁更新中...\n",
      "網頁更新中...\n",
      "網頁更新中...\n",
      "網頁更新中...\n",
      "到達頁面底端\n"
     ]
    }
   ],
   "source": [
    "browser = webdriver.Chrome()\n",
    "browser.get(ETtoday_url)  # 打開瀏覽器並連到東森新聞雲網頁\n",
    "\n",
    "SCROLL_PAUSE_TIME = 1\n",
    "\n",
    "#\n",
    "# 以下是用Selenium模擬下拉網頁動作，讓網頁更新\n",
    "#\n",
    "#可以用document.documentElement.scrollHeight，如果body不行的話\n",
    "last_height = browser.execute_script(\"window.scrollTo(0, document.body.scrollHeight);\")\n",
    "while True:\n",
    "    '''\n",
    "    Your code here\n",
    "    \n",
    "    提示：可參考以下的Stack Overflow: \n",
    "    https://stackoverflow.com/questions/48850974/selenium-scroll-to-end-of-page-indynamically-loading-webpage/48851166\n",
    "    https://stackoverflow.com/questions/20986631/how-can-i-scroll-a-web-page-using-selenium-webdriver-in-python\n",
    "    '''\n",
    "    browser.execute_script(\"window.scrollTo(0, document.body.scrollHeight);\")\n",
    "    time.sleep(SCROLL_PAUSE_TIME)\n",
    "    new_height = browser.execute_script(\"return document.body.scrollHeight\")\n",
    "    if last_height == new_height:\n",
    "        print('到達頁面底端')\n",
    "        break\n",
    "    else:\n",
    "        last_height = new_height\n",
    "        print('網頁更新中...')"
   ]
  },
  {
   "cell_type": "code",
   "execution_count": 6,
   "metadata": {},
   "outputs": [],
   "source": [
    "#\n",
    "# 這裡先建立一個函數，其功能是連到外部連結，並爬取新聞內容。\n",
    "#\n",
    "def getNewsDetailContent(link_url):\n",
    "    resp = requests.get(link_url)\n",
    "    resp.encoding = 'utf-8'\n",
    "    #print(resp.text)\n",
    "\n",
    "    soup = BeautifulSoup(resp.text, 'lxml')\n",
    "    news_content = soup.find(\"div\", attrs={'class':'story'}).find_all(\"p\")\n",
    "    for p in news_content:\n",
    "        \"\"\"\n",
    "        .string屬性說明：\n",
    "        (1) 若當前tag節點底下沒有其他tag子節點，會直接抓取內容(返回\"NavigableString\")\n",
    "        (2) 若當前tag節點底下只有唯一的一個tag子節點，也會直接抓取tag子節點的內容(返回\"NavigableString\")\n",
    "        (3) 但若當前tag節點底下還有很多個tag子節點，.string就無法判斷，(返回\"None\")\n",
    "        \"\"\"\n",
    "        #if ((p.string) is not None):\n",
    "            #print(p.string)"
   ]
  },
  {
   "cell_type": "markdown",
   "metadata": {},
   "source": [
    "## 單線程"
   ]
  },
  {
   "cell_type": "code",
   "execution_count": 9,
   "metadata": {},
   "outputs": [
    {
     "name": "stdout",
     "output_type": "stream",
     "text": [
      "19.667542934417725\n"
     ]
    }
   ],
   "source": [
    "# 爬取網頁內容，解析後萃取新聞摘要\n",
    "startTime = time.time()\n",
    "html = browser.page_source\n",
    "soup = BeautifulSoup(html, \"lxml\")\n",
    "all_news = soup.find(\"div\", attrs={'class':'block block_1 infinite_scroll'})\n",
    "\n",
    "news_block = all_news.find_all('div', attrs={'class':'piece clearfix'})\n",
    "\n",
    "for i, news_item in enumerate(news_block):\n",
    "    #print(\"----------------------------------------------------------------------\")\n",
    "    #news_body = news_item.find('h3')\n",
    "    #print(\"\\n[%d] %s\\n\" % (i, news_body.a.string))\n",
    "    \n",
    "    # \n",
    "    # 連到外部連結，擷取詳細新聞內容\n",
    "    #\n",
    "    externalLink = \"https://www.ettoday.net\" + news_body.a[\"href\"]\n",
    "    getNewsDetailContent(externalLink)\n",
    "    finishTime = time.time()\n",
    "print(finishTime - startTime)"
   ]
  },
  {
   "cell_type": "code",
   "execution_count": 8,
   "metadata": {},
   "outputs": [
    {
     "name": "stdout",
     "output_type": "stream",
     "text": [
      "0.09275245666503906\n"
     ]
    }
   ],
   "source": [
    "# 爬取網頁內容，解析後萃取新聞摘要\n",
    "startTime = time.time()\n",
    "html = browser.page_source\n",
    "soup = BeautifulSoup(html, \"lxml\")\n",
    "all_news = soup.find(\"div\", attrs={'class':'block block_1 infinite_scroll'})\n",
    "\n",
    "news_block = all_news.find_all('div', attrs={'class':'piece clearfix'})\n",
    "\n",
    "for i, news_item in enumerate(news_block):\n",
    "    #print(\"----------------------------------------------------------------------\")\n",
    "    #news_body = news_item.find('h3')\n",
    "    #print(\"\\n[%d] %s\\n\" % (i, news_body.a.string))\n",
    "    \n",
    "    # \n",
    "    # 連到外部連結，擷取詳細新聞內容\n",
    "    #\n",
    "    externalLink = \"https://www.ettoday.net\" + news_body.a[\"href\"]\n",
    "    _thread.start_new_thread( getNewsDetailContent, (externalLink, ) )\n",
    "    finishTime = time.time()\n",
    "print(finishTime - startTime)"
   ]
  },
  {
   "cell_type": "code",
   "execution_count": null,
   "metadata": {},
   "outputs": [],
   "source": []
  }
 ],
 "metadata": {
  "colab": {
   "name": "homework.ipynb",
   "provenance": []
  },
  "kernelspec": {
   "display_name": "Python 3",
   "language": "python",
   "name": "python3"
  },
  "language_info": {
   "codemirror_mode": {
    "name": "ipython",
    "version": 3
   },
   "file_extension": ".py",
   "mimetype": "text/x-python",
   "name": "python",
   "nbconvert_exporter": "python",
   "pygments_lexer": "ipython3",
   "version": "3.7.6"
  }
 },
 "nbformat": 4,
 "nbformat_minor": 1
}
